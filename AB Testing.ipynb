{
 "cells": [
  {
   "cell_type": "code",
   "execution_count": 1,
   "id": "307d4c06",
   "metadata": {},
   "outputs": [],
   "source": [
    "import pandas as pd"
   ]
  },
  {
   "cell_type": "code",
   "execution_count": 2,
   "id": "d5af4d00",
   "metadata": {
    "scrolled": false
   },
   "outputs": [
    {
     "name": "stdout",
     "output_type": "stream",
     "text": [
      "                                user_id utm_source           day  \\\n",
      "0  008b7c6c-7272-471e-b90e-930d548bd8d7     google  6 - Saturday   \n",
      "1  009abb94-5e14-4b6c-bb1c-4f4df7aa7557   facebook    7 - Sunday   \n",
      "2  00f5d532-ed58-4570-b6d2-768df5f41aed    twitter   2 - Tuesday   \n",
      "3  011adc64-0f44-4fd9-a0bb-f1506d2ad439     google   2 - Tuesday   \n",
      "4  012137e6-7ae7-4649-af68-205b4702169c   facebook    7 - Sunday   \n",
      "\n",
      "  ad_click_timestamp experimental_group  \n",
      "0               7:18                  A  \n",
      "1                NaN                  B  \n",
      "2                NaN                  A  \n",
      "3                NaN                  B  \n",
      "4                NaN                  B  \n"
     ]
    }
   ],
   "source": [
    "ad_clicks = pd.read_csv('ad_clicks.csv')\n",
    "print (ad_clicks.head(5))"
   ]
  },
  {
   "cell_type": "markdown",
   "id": "3e34eb92",
   "metadata": {},
   "source": [
    "How many views came from each utm_source?"
   ]
  },
  {
   "cell_type": "code",
   "execution_count": 4,
   "id": "0c7f632d",
   "metadata": {
    "scrolled": true
   },
   "outputs": [
    {
     "name": "stdout",
     "output_type": "stream",
     "text": [
      "  utm_source  user_id\n",
      "0      email      255\n",
      "1   facebook      504\n",
      "2     google      680\n",
      "3    twitter      215\n"
     ]
    }
   ],
   "source": [
    "views = ad_clicks.groupby('utm_source').user_id.count().reset_index()\n",
    "print(views)"
   ]
  },
  {
   "cell_type": "markdown",
   "id": "dd20dc26",
   "metadata": {},
   "source": [
    "Adding a columnn \"is_click\" when the ad has been clicked on:\n"
   ]
  },
  {
   "cell_type": "code",
   "execution_count": 6,
   "id": "4e5dec0c",
   "metadata": {},
   "outputs": [],
   "source": [
    "ad_clicks['is_click']= ~ad_clicks.ad_click_timestamp.isnull()"
   ]
  },
  {
   "cell_type": "markdown",
   "id": "4a334917",
   "metadata": {},
   "source": [
    "Find out the percentage of people that clicked on ads from each utm_source:"
   ]
  },
  {
   "cell_type": "code",
   "execution_count": 9,
   "id": "390505a7",
   "metadata": {},
   "outputs": [
    {
     "name": "stdout",
     "output_type": "stream",
     "text": [
      "  utm_source  is_click  user_id\n",
      "0      email     False      175\n",
      "1      email      True       80\n",
      "2   facebook     False      324\n",
      "3   facebook      True      180\n",
      "4     google     False      441\n",
      "5     google      True      239\n",
      "6    twitter     False      149\n",
      "7    twitter      True       66\n"
     ]
    }
   ],
   "source": [
    "clicks_by_source = ad_clicks.groupby(['utm_source', 'is_click']).user_id.count().reset_index()\n",
    "print(clicks_by_source)"
   ]
  },
  {
   "cell_type": "code",
   "execution_count": 13,
   "id": "bf4f1ed6",
   "metadata": {
    "scrolled": true
   },
   "outputs": [
    {
     "name": "stdout",
     "output_type": "stream",
     "text": [
      "is_click    False  True  percent_clicked\n",
      "utm_source                              \n",
      "email         175    80             31.0\n",
      "facebook      324   180             36.0\n",
      "google        441   239             35.0\n",
      "twitter       149    66             31.0\n"
     ]
    }
   ],
   "source": [
    "clicks_pivot= clicks_by_source.pivot(\n",
    "columns = 'is_click',\n",
    "index = 'utm_source',\n",
    "values = 'user_id')\n",
    "\n",
    "clicks_pivot['percent_clicked'] = round((clicks_pivot[True] / (clicks_pivot[True]+ clicks_pivot[False]))*100)\n",
    "print(clicks_pivot)"
   ]
  },
  {
   "cell_type": "markdown",
   "id": "bf0e4cd8",
   "metadata": {},
   "source": [
    "Analyzing A/B test:\n",
    "\n",
    "-> checking if approximately the same amount of people were shown both ads?\n",
    "\n",
    "-> which ad was clicked on by the greater percentage of users?"
   ]
  },
  {
   "cell_type": "code",
   "execution_count": 15,
   "id": "6e5d4641",
   "metadata": {},
   "outputs": [
    {
     "name": "stdout",
     "output_type": "stream",
     "text": [
      "827 827\n"
     ]
    }
   ],
   "source": [
    "a_clicks = ad_clicks[ad_clicks.experimental_group == 'A']\n",
    "b_clicks = ad_clicks[ad_clicks.experimental_group == 'B']\n",
    "\n",
    "print (a_clicks.user_id.count(), b_clicks.user_id.count())"
   ]
  },
  {
   "cell_type": "code",
   "execution_count": 48,
   "id": "b230ef49",
   "metadata": {},
   "outputs": [
    {
     "name": "stdout",
     "output_type": "stream",
     "text": [
      "is_click experimental_group  False  True  percent_clicked\n",
      "0                         A    517   310             37.0\n",
      "1                         B    572   255             31.0\n"
     ]
    }
   ],
   "source": [
    "A_B_clicks = ad_clicks.groupby(['experimental_group', 'is_click']).user_id.count().reset_index()\n",
    "\n",
    "A_B_pivot = A_B_clicks.pivot(\n",
    "columns = 'is_click',\n",
    "index = 'experimental_group',\n",
    "values = 'user_id').reset_index()\n",
    "\n",
    "A_B_pivot['percent_clicked'] = round((A_B_pivot[True] /( A_B_pivot[True]+ A_B_pivot[False]))*100)\n",
    "\n",
    "print(A_B_pivot)"
   ]
  },
  {
   "cell_type": "code",
   "execution_count": 46,
   "id": "bbae2961",
   "metadata": {},
   "outputs": [
    {
     "name": "stdout",
     "output_type": "stream",
     "text": [
      "is_click            day  False  True  percent_clicked\n",
      "0            1 - Monday     70    43             38.0\n",
      "1           2 - Tuesday     76    43             36.0\n",
      "2         3 - Wednesday     86    38             31.0\n",
      "3          4 - Thursday     69    47             41.0\n",
      "4            5 - Friday     77    51             40.0\n",
      "5          6 - Saturday     73    45             38.0\n",
      "6            7 - Sunday     66    43             39.0\n"
     ]
    }
   ],
   "source": [
    "a_clicks_pivot = a_clicks.groupby(['is_click', 'day']).user_id.count().reset_index().pivot(\n",
    "columns = 'is_click',\n",
    "index = 'day',\n",
    "values = 'user_id').reset_index()\n",
    "\n",
    "a_clicks_pivot['percent_clicked'] = round((a_clicks_pivot[True] / (a_clicks_pivot[True]+ a_clicks_pivot[False]))*100)\n",
    "\n",
    "print(a_clicks_pivot)"
   ]
  },
  {
   "cell_type": "code",
   "execution_count": 47,
   "id": "4087b88b",
   "metadata": {},
   "outputs": [
    {
     "name": "stdout",
     "output_type": "stream",
     "text": [
      "is_click            day  False  True  percent_clicked\n",
      "0            1 - Monday     81    32             28.0\n",
      "1           2 - Tuesday     74    45             38.0\n",
      "2         3 - Wednesday     89    35             28.0\n",
      "3          4 - Thursday     87    29             25.0\n",
      "4            5 - Friday     90    38             30.0\n",
      "5          6 - Saturday     76    42             36.0\n",
      "6            7 - Sunday     75    34             31.0\n"
     ]
    }
   ],
   "source": [
    "b_clicks_pivot = b_clicks.groupby(['is_click', 'day']).user_id.count().reset_index().pivot(\n",
    "columns = 'is_click',\n",
    "index = 'day',\n",
    "values = 'user_id').reset_index()\n",
    "\n",
    "b_clicks_pivot['percent_clicked'] = round((b_clicks_pivot[True] / (b_clicks_pivot[True]+ b_clicks_pivot[False]))*100)\n",
    "\n",
    "print(b_clicks_pivot)"
   ]
  },
  {
   "cell_type": "markdown",
   "id": "566c18c1",
   "metadata": {},
   "source": [
    "Ad \"A\" is recommended as it was more popular among shoppers overall (by 6%), as well as was constantly over 30% of clicks during the week, working especially well closer to the end of the week."
   ]
  }
 ],
 "metadata": {
  "kernelspec": {
   "display_name": "Python 3 (ipykernel)",
   "language": "python",
   "name": "python3"
  },
  "language_info": {
   "codemirror_mode": {
    "name": "ipython",
    "version": 3
   },
   "file_extension": ".py",
   "mimetype": "text/x-python",
   "name": "python",
   "nbconvert_exporter": "python",
   "pygments_lexer": "ipython3",
   "version": "3.11.2"
  }
 },
 "nbformat": 4,
 "nbformat_minor": 5
}
