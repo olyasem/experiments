{
 "cells": [
  {
   "cell_type": "markdown",
   "metadata": {},
   "source": [
    "# This is Jeopardy!"
   ]
  },
  {
   "cell_type": "markdown",
   "metadata": {},
   "source": [
    "#### Overview"
   ]
  },
  {
   "cell_type": "markdown",
   "metadata": {},
   "source": [
    "This project is slightly different than others you have encountered thus far. Instead of a step-by-step tutorial, this project contains a series of open-ended requirements which describe the project you'll be building. There are many possible ways to correctly fulfill all of these requirements, and you should expect to use the internet, Codecademy, and/or other resources when you encounter a problem that you cannot easily solve."
   ]
  },
  {
   "cell_type": "markdown",
   "metadata": {},
   "source": [
    "#### Project Goals"
   ]
  },
  {
   "cell_type": "markdown",
   "metadata": {},
   "source": [
    "You will work to write several functions that investigate a dataset of _Jeopardy!_ questions and answers. Filter the dataset for topics that you're interested in, compute the average difficulty of those questions, and train to become the next Jeopardy champion!"
   ]
  },
  {
   "cell_type": "markdown",
   "metadata": {},
   "source": [
    "## Prerequisites"
   ]
  },
  {
   "cell_type": "markdown",
   "metadata": {},
   "source": [
    "In order to complete this project, you should have completed the Pandas lessons in the <a href=\"https://www.codecademy.com/learn/paths/analyze-data-with-python\">Analyze Data with Python Skill Path</a>. You can also find those lessons in the <a href=\"https://www.codecademy.com/learn/data-processing-pandas\">Data Analysis with Pandas course</a> or the <a href=\"https://www.codecademy.com/learn/paths/data-science/\">Data Scientist Career Path</a>.\n",
    "\n",
    "Finally, the <a href=\"https://www.codecademy.com/learn/practical-data-cleaning\">Practical Data Cleaning</a> course may also be helpful."
   ]
  },
  {
   "cell_type": "markdown",
   "metadata": {},
   "source": [
    "## Project Requirements"
   ]
  },
  {
   "cell_type": "markdown",
   "metadata": {},
   "source": [
    "1. We've provided a csv file containing data about the game show _Jeopardy!_ in a file named `jeopardy.csv`. Load the data into a DataFrame and investigate its contents. Try to print out specific columns.\n",
    "\n",
    "   Note that in order to make this project as \"real-world\" as possible, we haven't modified the data at all - we're giving it to you exactly how we found it. As a result, this data isn't as \"clean\" as the datasets you normally find on Codecademy. More specifically, there's something odd about the column names. After you figure out the problem with the column names, you may want to rename them to make your life easier for the rest of the project.\n",
    "   \n",
    "   In order to display the full contents of a column, we've added this line of code for you:\n",
    "   \n",
    "   ```py\n",
    "   pd.set_option('display.max_colwidth', None)\n",
    "   ```"
   ]
  },
  {
   "cell_type": "code",
   "execution_count": 92,
   "metadata": {},
   "outputs": [
    {
     "data": {
      "text/html": [
       "<div>\n",
       "<style scoped>\n",
       "    .dataframe tbody tr th:only-of-type {\n",
       "        vertical-align: middle;\n",
       "    }\n",
       "\n",
       "    .dataframe tbody tr th {\n",
       "        vertical-align: top;\n",
       "    }\n",
       "\n",
       "    .dataframe thead th {\n",
       "        text-align: right;\n",
       "    }\n",
       "</style>\n",
       "<table border=\"1\" class=\"dataframe\">\n",
       "  <thead>\n",
       "    <tr style=\"text-align: right;\">\n",
       "      <th></th>\n",
       "      <th>how Number</th>\n",
       "      <th>Air Date</th>\n",
       "      <th>Round</th>\n",
       "      <th>Category</th>\n",
       "      <th>Value</th>\n",
       "      <th>Question</th>\n",
       "      <th>Answer</th>\n",
       "    </tr>\n",
       "  </thead>\n",
       "  <tbody>\n",
       "    <tr>\n",
       "      <th>0</th>\n",
       "      <td>4680</td>\n",
       "      <td>2004-12-31</td>\n",
       "      <td>Jeopardy!</td>\n",
       "      <td>HISTORY</td>\n",
       "      <td>$200</td>\n",
       "      <td>For the last 8 years of his life, Galileo was under house arrest for espousing this man's theory</td>\n",
       "      <td>Copernicus</td>\n",
       "    </tr>\n",
       "    <tr>\n",
       "      <th>1</th>\n",
       "      <td>4680</td>\n",
       "      <td>2004-12-31</td>\n",
       "      <td>Jeopardy!</td>\n",
       "      <td>ESPN's TOP 10 ALL-TIME ATHLETES</td>\n",
       "      <td>$200</td>\n",
       "      <td>No. 2: 1912 Olympian; football star at Carlisle Indian School; 6 MLB seasons with the Reds, Giants &amp; Braves</td>\n",
       "      <td>Jim Thorpe</td>\n",
       "    </tr>\n",
       "    <tr>\n",
       "      <th>2</th>\n",
       "      <td>4680</td>\n",
       "      <td>2004-12-31</td>\n",
       "      <td>Jeopardy!</td>\n",
       "      <td>EVERYBODY TALKS ABOUT IT...</td>\n",
       "      <td>$200</td>\n",
       "      <td>The city of Yuma in this state has a record average of 4,055 hours of sunshine each year</td>\n",
       "      <td>Arizona</td>\n",
       "    </tr>\n",
       "    <tr>\n",
       "      <th>3</th>\n",
       "      <td>4680</td>\n",
       "      <td>2004-12-31</td>\n",
       "      <td>Jeopardy!</td>\n",
       "      <td>THE COMPANY LINE</td>\n",
       "      <td>$200</td>\n",
       "      <td>In 1963, live on \"The Art Linkletter Show\", this company served its billionth burger</td>\n",
       "      <td>McDonald's</td>\n",
       "    </tr>\n",
       "    <tr>\n",
       "      <th>4</th>\n",
       "      <td>4680</td>\n",
       "      <td>2004-12-31</td>\n",
       "      <td>Jeopardy!</td>\n",
       "      <td>EPITAPHS &amp; TRIBUTES</td>\n",
       "      <td>$200</td>\n",
       "      <td>Signer of the Dec. of Indep., framer of the Constitution of Mass., second President of the United States</td>\n",
       "      <td>John Adams</td>\n",
       "    </tr>\n",
       "  </tbody>\n",
       "</table>\n",
       "</div>"
      ],
      "text/plain": [
       "   how Number    Air Date      Round                         Category Value  \\\n",
       "0        4680  2004-12-31  Jeopardy!                          HISTORY  $200   \n",
       "1        4680  2004-12-31  Jeopardy!  ESPN's TOP 10 ALL-TIME ATHLETES  $200   \n",
       "2        4680  2004-12-31  Jeopardy!      EVERYBODY TALKS ABOUT IT...  $200   \n",
       "3        4680  2004-12-31  Jeopardy!                 THE COMPANY LINE  $200   \n",
       "4        4680  2004-12-31  Jeopardy!              EPITAPHS & TRIBUTES  $200   \n",
       "\n",
       "                                                                                                      Question  \\\n",
       "0             For the last 8 years of his life, Galileo was under house arrest for espousing this man's theory   \n",
       "1  No. 2: 1912 Olympian; football star at Carlisle Indian School; 6 MLB seasons with the Reds, Giants & Braves   \n",
       "2                     The city of Yuma in this state has a record average of 4,055 hours of sunshine each year   \n",
       "3                         In 1963, live on \"The Art Linkletter Show\", this company served its billionth burger   \n",
       "4     Signer of the Dec. of Indep., framer of the Constitution of Mass., second President of the United States   \n",
       "\n",
       "       Answer  \n",
       "0  Copernicus  \n",
       "1  Jim Thorpe  \n",
       "2     Arizona  \n",
       "3  McDonald's  \n",
       "4  John Adams  "
      ]
     },
     "execution_count": 92,
     "metadata": {},
     "output_type": "execute_result"
    }
   ],
   "source": [
    "import pandas as pd\n",
    "import locale\n",
    "jeopardy = pd.read_csv(\"jeopardy.csv\", dtype={'Value': str}) \n",
    "pd.set_option('display.max_colwidth', None)\n",
    "jeopardy.columns = jeopardy.columns.str[1:]\n",
    "jeopardy.head(5)"
   ]
  },
  {
   "cell_type": "markdown",
   "metadata": {},
   "source": [
    "2. Write a function that filters the dataset for questions that contains all of the words in a list of words. For example, when the list `[\"King\", \"England\"]` was passed to our function, the function returned a DataFrame of 49 rows. Every row had the strings `\"King\"` and `\"England\"` somewhere in its `\" Question\"`.\n",
    "\n",
    "   Test your function by printing out the column containing the question of each row of the dataset."
   ]
  },
  {
   "cell_type": "code",
   "execution_count": 189,
   "metadata": {},
   "outputs": [
    {
     "data": {
      "text/html": [
       "<div>\n",
       "<style scoped>\n",
       "    .dataframe tbody tr th:only-of-type {\n",
       "        vertical-align: middle;\n",
       "    }\n",
       "\n",
       "    .dataframe tbody tr th {\n",
       "        vertical-align: top;\n",
       "    }\n",
       "\n",
       "    .dataframe thead th {\n",
       "        text-align: right;\n",
       "    }\n",
       "</style>\n",
       "<table border=\"1\" class=\"dataframe\">\n",
       "  <thead>\n",
       "    <tr style=\"text-align: right;\">\n",
       "      <th></th>\n",
       "      <th>how Number</th>\n",
       "      <th>Air Date</th>\n",
       "      <th>Round</th>\n",
       "      <th>Category</th>\n",
       "      <th>Value</th>\n",
       "      <th>Question</th>\n",
       "      <th>Answer</th>\n",
       "    </tr>\n",
       "  </thead>\n",
       "  <tbody>\n",
       "    <tr>\n",
       "      <th>732</th>\n",
       "      <td>5851</td>\n",
       "      <td>2010-02-08</td>\n",
       "      <td>Jeopardy!</td>\n",
       "      <td>THE KILLERS</td>\n",
       "      <td>600.0</td>\n",
       "      <td>Bodyguards Satwant &amp; Beant Singh killed this female leader of India in 1984</td>\n",
       "      <td>Indira Gandhi</td>\n",
       "    </tr>\n",
       "    <tr>\n",
       "      <th>1426</th>\n",
       "      <td>3362</td>\n",
       "      <td>1999-03-30</td>\n",
       "      <td>Final Jeopardy!</td>\n",
       "      <td>WORLD GEOGRAPHY</td>\n",
       "      <td>0.0</td>\n",
       "      <td>One story says this point was so named becuase it was a positive sign of a sea route from Europe to India</td>\n",
       "      <td>Cape of Good Hope</td>\n",
       "    </tr>\n",
       "    <tr>\n",
       "      <th>2083</th>\n",
       "      <td>1800</td>\n",
       "      <td>1992-05-29</td>\n",
       "      <td>Double Jeopardy!</td>\n",
       "      <td>SCIENCE</td>\n",
       "      <td>1000.0</td>\n",
       "      <td>This resin, a natural polymer used as a varnish, is produced by insects in India and Myanmar</td>\n",
       "      <td>shellac</td>\n",
       "    </tr>\n",
       "    <tr>\n",
       "      <th>2334</th>\n",
       "      <td>4595</td>\n",
       "      <td>2004-07-23</td>\n",
       "      <td>Jeopardy!</td>\n",
       "      <td>NOW YOU'RE TALKING MY LANGUAGE</td>\n",
       "      <td>400.0</td>\n",
       "      <td>\"Namaste\" is a greeting in this official language of India used by over a quarter of a billion speakers</td>\n",
       "      <td>Hindi</td>\n",
       "    </tr>\n",
       "    <tr>\n",
       "      <th>2342</th>\n",
       "      <td>4595</td>\n",
       "      <td>2004-07-23</td>\n",
       "      <td>Jeopardy!</td>\n",
       "      <td>THE BIG BANGLADESH</td>\n",
       "      <td>800.0</td>\n",
       "      <td>After India was partitioned in 1947, what would later become Bangladesh was the \"East\" part of this country</td>\n",
       "      <td>Pakistan</td>\n",
       "    </tr>\n",
       "    <tr>\n",
       "      <th>...</th>\n",
       "      <td>...</td>\n",
       "      <td>...</td>\n",
       "      <td>...</td>\n",
       "      <td>...</td>\n",
       "      <td>...</td>\n",
       "      <td>...</td>\n",
       "      <td>...</td>\n",
       "    </tr>\n",
       "    <tr>\n",
       "      <th>212473</th>\n",
       "      <td>3369</td>\n",
       "      <td>1999-04-08</td>\n",
       "      <td>Double Jeopardy!</td>\n",
       "      <td>THE 1930s</td>\n",
       "      <td>200.0</td>\n",
       "      <td>A 6-day fast by this man in 1932 changed the way the untouchables in India were treated</td>\n",
       "      <td>Mohandas Gandhi</td>\n",
       "    </tr>\n",
       "    <tr>\n",
       "      <th>213269</th>\n",
       "      <td>2879</td>\n",
       "      <td>1997-02-20</td>\n",
       "      <td>Double Jeopardy!</td>\n",
       "      <td>SHIPS</td>\n",
       "      <td>600.0</td>\n",
       "      <td>In November 1609 the British seized this Henry Hudson ship but later returned it to the Dutch East India Co.</td>\n",
       "      <td>The Half Moon</td>\n",
       "    </tr>\n",
       "    <tr>\n",
       "      <th>214458</th>\n",
       "      <td>2964</td>\n",
       "      <td>1997-06-19</td>\n",
       "      <td>Double Jeopardy!</td>\n",
       "      <td>PEOPLE IN HISTORY</td>\n",
       "      <td>400.0</td>\n",
       "      <td>This first prime minister of independent India was educated in England at Harrow &amp; Cambridge</td>\n",
       "      <td>Jawaharlal Nehru</td>\n",
       "    </tr>\n",
       "    <tr>\n",
       "      <th>215109</th>\n",
       "      <td>6036</td>\n",
       "      <td>2010-12-06</td>\n",
       "      <td>Jeopardy!</td>\n",
       "      <td>WHAT THE \"H\"</td>\n",
       "      <td>1000.0</td>\n",
       "      <td>Namaste is a greeting in this official language of India</td>\n",
       "      <td>Hindi</td>\n",
       "    </tr>\n",
       "    <tr>\n",
       "      <th>216804</th>\n",
       "      <td>5070</td>\n",
       "      <td>2006-09-29</td>\n",
       "      <td>Double Jeopardy!</td>\n",
       "      <td>\"U\"-ENDING CREATURES</td>\n",
       "      <td>2000.0</td>\n",
       "      <td>This category could run from the akiapolaau, a Hawaiian bird, to this member of the cattle familhy in India</td>\n",
       "      <td>a zebu</td>\n",
       "    </tr>\n",
       "  </tbody>\n",
       "</table>\n",
       "<p>343 rows × 7 columns</p>\n",
       "</div>"
      ],
      "text/plain": [
       "        how Number    Air Date             Round  \\\n",
       "732           5851  2010-02-08         Jeopardy!   \n",
       "1426          3362  1999-03-30   Final Jeopardy!   \n",
       "2083          1800  1992-05-29  Double Jeopardy!   \n",
       "2334          4595  2004-07-23         Jeopardy!   \n",
       "2342          4595  2004-07-23         Jeopardy!   \n",
       "...            ...         ...               ...   \n",
       "212473        3369  1999-04-08  Double Jeopardy!   \n",
       "213269        2879  1997-02-20  Double Jeopardy!   \n",
       "214458        2964  1997-06-19  Double Jeopardy!   \n",
       "215109        6036  2010-12-06         Jeopardy!   \n",
       "216804        5070  2006-09-29  Double Jeopardy!   \n",
       "\n",
       "                              Category   Value  \\\n",
       "732                        THE KILLERS   600.0   \n",
       "1426                   WORLD GEOGRAPHY     0.0   \n",
       "2083                           SCIENCE  1000.0   \n",
       "2334    NOW YOU'RE TALKING MY LANGUAGE   400.0   \n",
       "2342                THE BIG BANGLADESH   800.0   \n",
       "...                                ...     ...   \n",
       "212473                       THE 1930s   200.0   \n",
       "213269                           SHIPS   600.0   \n",
       "214458               PEOPLE IN HISTORY   400.0   \n",
       "215109                    WHAT THE \"H\"  1000.0   \n",
       "216804            \"U\"-ENDING CREATURES  2000.0   \n",
       "\n",
       "                                                                                                            Question  \\\n",
       "732                                      Bodyguards Satwant & Beant Singh killed this female leader of India in 1984   \n",
       "1426       One story says this point was so named becuase it was a positive sign of a sea route from Europe to India   \n",
       "2083                    This resin, a natural polymer used as a varnish, is produced by insects in India and Myanmar   \n",
       "2334         \"Namaste\" is a greeting in this official language of India used by over a quarter of a billion speakers   \n",
       "2342     After India was partitioned in 1947, what would later become Bangladesh was the \"East\" part of this country   \n",
       "...                                                                                                              ...   \n",
       "212473                       A 6-day fast by this man in 1932 changed the way the untouchables in India were treated   \n",
       "213269  In November 1609 the British seized this Henry Hudson ship but later returned it to the Dutch East India Co.   \n",
       "214458                  This first prime minister of independent India was educated in England at Harrow & Cambridge   \n",
       "215109                                                      Namaste is a greeting in this official language of India   \n",
       "216804   This category could run from the akiapolaau, a Hawaiian bird, to this member of the cattle familhy in India   \n",
       "\n",
       "                   Answer  \n",
       "732         Indira Gandhi  \n",
       "1426    Cape of Good Hope  \n",
       "2083              shellac  \n",
       "2334                Hindi  \n",
       "2342             Pakistan  \n",
       "...                   ...  \n",
       "212473    Mohandas Gandhi  \n",
       "213269      The Half Moon  \n",
       "214458   Jawaharlal Nehru  \n",
       "215109              Hindi  \n",
       "216804             a zebu  \n",
       "\n",
       "[343 rows x 7 columns]"
      ]
     },
     "execution_count": 189,
     "metadata": {},
     "output_type": "execute_result"
    }
   ],
   "source": [
    "def filter_column_containing(dataframe, column, words):\n",
    "    words = set(word for word in words)\n",
    "    return dataframe[dataframe[column].str.split(\" \").map(words.issubset)]\n",
    "  \n",
    "filter_column_containing(jeopardy, 'Question', ['India'])"
   ]
  },
  {
   "cell_type": "markdown",
   "metadata": {},
   "source": [
    "3. Test your original function with a few different sets of words to try to find some ways your function breaks. Edit your function so it is more robust.\n",
    "\n",
    "   For example, think about capitalization. We probably want to find questions that contain the word `\"King\"` or `\"king\"`.\n",
    "   \n",
    "   You may also want to check to make sure you don't find rows that contain substrings of your given words. For example, our function found a question that didn't contain the word `\"king\"`, however it did contain the word `\"viking\"` &mdash; it found the `\"king\"` inside `\"viking\"`. Note that this also comes with some drawbacks &mdash; you would no longer find questions that contained words like `\"England's\"`."
   ]
  },
  {
   "cell_type": "code",
   "execution_count": 142,
   "metadata": {},
   "outputs": [
    {
     "data": {
      "text/html": [
       "<div>\n",
       "<style scoped>\n",
       "    .dataframe tbody tr th:only-of-type {\n",
       "        vertical-align: middle;\n",
       "    }\n",
       "\n",
       "    .dataframe tbody tr th {\n",
       "        vertical-align: top;\n",
       "    }\n",
       "\n",
       "    .dataframe thead th {\n",
       "        text-align: right;\n",
       "    }\n",
       "</style>\n",
       "<table border=\"1\" class=\"dataframe\">\n",
       "  <thead>\n",
       "    <tr style=\"text-align: right;\">\n",
       "      <th></th>\n",
       "      <th>how Number</th>\n",
       "      <th>Air Date</th>\n",
       "      <th>Round</th>\n",
       "      <th>Category</th>\n",
       "      <th>Value</th>\n",
       "      <th>Question</th>\n",
       "      <th>Answer</th>\n",
       "    </tr>\n",
       "  </thead>\n",
       "  <tbody>\n",
       "    <tr>\n",
       "      <th>6337</th>\n",
       "      <td>3517</td>\n",
       "      <td>1999-12-14</td>\n",
       "      <td>Double Jeopardy!</td>\n",
       "      <td>Y1K</td>\n",
       "      <td>800.0</td>\n",
       "      <td>In retaliation for Viking raids, this \"Unready\" king of England attacks Norse areas of the Isle of Man</td>\n",
       "      <td>Ethelred</td>\n",
       "    </tr>\n",
       "    <tr>\n",
       "      <th>12951</th>\n",
       "      <td>5181</td>\n",
       "      <td>2007-03-05</td>\n",
       "      <td>Double Jeopardy!</td>\n",
       "      <td>STATUE-ESQUE</td>\n",
       "      <td>1600.0</td>\n",
       "      <td>A statue in Hampshire of this \"Great\" king honors his 9th c. rule when he defended against a Viking invasion</td>\n",
       "      <td>Alfred (the Great)</td>\n",
       "    </tr>\n",
       "    <tr>\n",
       "      <th>167872</th>\n",
       "      <td>4316</td>\n",
       "      <td>2003-05-12</td>\n",
       "      <td>Double Jeopardy!</td>\n",
       "      <td>FEELING A LITTLE NORSE</td>\n",
       "      <td>2000.0</td>\n",
       "      <td>Some say the Viking Age ended in 1066 when this king defeated the Norwegians at Stamford Bridge</td>\n",
       "      <td>Harold II</td>\n",
       "    </tr>\n",
       "  </tbody>\n",
       "</table>\n",
       "</div>"
      ],
      "text/plain": [
       "        how Number    Air Date             Round                Category  \\\n",
       "6337          3517  1999-12-14  Double Jeopardy!                     Y1K   \n",
       "12951         5181  2007-03-05  Double Jeopardy!            STATUE-ESQUE   \n",
       "167872        4316  2003-05-12  Double Jeopardy!  FEELING A LITTLE NORSE   \n",
       "\n",
       "         Value  \\\n",
       "6337     800.0   \n",
       "12951   1600.0   \n",
       "167872  2000.0   \n",
       "\n",
       "                                                                                                            Question  \\\n",
       "6337          In retaliation for Viking raids, this \"Unready\" king of England attacks Norse areas of the Isle of Man   \n",
       "12951   A statue in Hampshire of this \"Great\" king honors his 9th c. rule when he defended against a Viking invasion   \n",
       "167872               Some say the Viking Age ended in 1066 when this king defeated the Norwegians at Stamford Bridge   \n",
       "\n",
       "                    Answer  \n",
       "6337              Ethelred  \n",
       "12951   Alfred (the Great)  \n",
       "167872           Harold II  "
      ]
     },
     "execution_count": 142,
     "metadata": {},
     "output_type": "execute_result"
    }
   ],
   "source": [
    "filter_column_containing(jeopardy, 'Question', ['Viking', 'king'])"
   ]
  },
  {
   "cell_type": "markdown",
   "metadata": {},
   "source": [
    "4. We may want to eventually compute aggregate statistics, like `.mean()` on the `\" Value\"` column. But right now, the values in that column are strings. Convert the`\" Value\"` column to floats. If you'd like to, you can create a new column with float values.\n",
    "\n",
    "   Now that you can filter the dataset of question, use your new column that contains the float values of each question to find the \"difficulty\" of certain topics. For example, what is the average value of questions that contain the word `\"King\"`?\n",
    "   \n",
    "   Make sure to use the dataset that contains the float values as the dataset you use in your filtering function."
   ]
  },
  {
   "cell_type": "code",
   "execution_count": 144,
   "metadata": {},
   "outputs": [
    {
     "data": {
      "text/plain": [
       "771.2384851586489"
      ]
     },
     "execution_count": 144,
     "metadata": {},
     "output_type": "execute_result"
    }
   ],
   "source": [
    "locale.setlocale(locale.LC_ALL, 'en_US.UTF-8')\n",
    "jeopardy['Value'] = jeopardy['Value'].apply(lambda x: 0 if x == \"None\" else  locale.atof(str(x).strip('$')))\n",
    "\n",
    "dataframe = filter_column_containing(jeopardy, 'Question', ['King'])\n",
    "dataframe['Value'].mean()\n"
   ]
  },
  {
   "cell_type": "markdown",
   "metadata": {},
   "source": [
    "5. Write a function that returns the count of unique answers to all of the questions in a dataset. For example, after filtering the entire dataset to only questions containing the word `\"King\"`, we could then find all of the unique answers to those questions. The answer \"Henry VIII\" appeared 55 times and was the most common answer."
   ]
  },
  {
   "cell_type": "code",
   "execution_count": 147,
   "metadata": {},
   "outputs": [
    {
     "data": {
      "text/plain": [
       "712"
      ]
     },
     "execution_count": 147,
     "metadata": {},
     "output_type": "execute_result"
    }
   ],
   "source": [
    "dataframe = filter_column_containing(jeopardy, 'Question', ['King'])\n",
    "dataframe['Answer'].nunique()"
   ]
  },
  {
   "cell_type": "markdown",
   "metadata": {},
   "source": [
    "6. Explore from here! This is an incredibly rich dataset, and there are so many interesting things to discover. There are a few columns that we haven't even started looking at yet. Here are some ideas on ways to continue working with this data:\n",
    "\n",
    " * Investigate the ways in which questions change over time by filtering by the date. How many questions from the 90s use the word `\"Computer\"` compared to questions from the 2000s?\n",
    " * Is there a connection between the round and the category? Are you more likely to find certain categories, like `\"Literature\"` in Single Jeopardy or Double Jeopardy?\n",
    " * Build a system to quiz yourself. Grab random questions, and use the <a href=\"https://docs.python.org/3/library/functions.html#input\">input</a> function to get a response from the user. Check to see if that response was right or wrong."
   ]
  },
  {
   "cell_type": "code",
   "execution_count": 163,
   "metadata": {},
   "outputs": [
    {
     "name": "stdout",
     "output_type": "stream",
     "text": [
      "(16, 7)  vs  (16, 7)\n"
     ]
    }
   ],
   "source": [
    "all_questions = filter_column_containing(jeopardy, 'Question', ['Literature']).copy()\n",
    "\n",
    "all_questions['Air Date']= pd.to_datetime(all_questions['Air Date'])\n",
    "all_questions.dtypes\n",
    "_2000s = all_questions[(all_questions['Air Date'] >= '2000-01-01') & (all_questions['Air Date'] < '2010-01-01')]\n",
    "_1990s = all_questions[(all_questions['Air Date'] >= '1990-01-01') & (all_questions['Air Date'] < '2000-01-01')]\n",
    "print (_2000s.shape,\" vs \",  _1990s.shape)\n",
    "\n",
    "\n",
    "\n",
    "\n",
    "\n"
   ]
  },
  {
   "cell_type": "code",
   "execution_count": 185,
   "metadata": {},
   "outputs": [
    {
     "name": "stdout",
     "output_type": "stream",
     "text": [
      "155746    A 2009 biography of this builder of Grand Central Terminal calls him \"the first tycoon\"\n",
      "Name: Question, dtype: object\n",
      "155746    Bebra, the right answer was (Cornelius) Vanderbilt\n",
      "Name: Answer, dtype: object\n"
     ]
    }
   ],
   "source": [
    "##\n",
    "r_question = jeopardy.sample(n=1)\n",
    "print(r_question['Question'])\n",
    "answer = input()\n",
    "if answer == r_question['Answer'].item() :\n",
    "    print (\"Bravo!\")\n",
    "else: \n",
    "    print (\"Oh no, the right answer was \" + r_question['Answer'])\n"
   ]
  },
  {
   "cell_type": "markdown",
   "metadata": {},
   "source": [
    "## Solution"
   ]
  },
  {
   "cell_type": "markdown",
   "metadata": {},
   "source": [
    "7. Compare your program to our <a href=\"https://content.codecademy.com/PRO/independent-practice-projects/jeopardy/jeopardy_solution.zip\">sample solution code</a> - remember, that your program might look different from ours (and probably will) and that's okay!"
   ]
  },
  {
   "cell_type": "markdown",
   "metadata": {},
   "source": [
    "8. Great work! Visit <a href=\"https://discuss.codecademy.com/t/this-is-jeopardy-challenge-project-python-pandas/462365\">our forums</a> to compare your project to our sample solution code. You can also learn how to host your own solution on GitHub so you can share it with other learners! Your solution might look different from ours, and that's okay! There are multiple ways to solve these projects, and you'll learn more by seeing others' code."
   ]
  },
  {
   "cell_type": "code",
   "execution_count": null,
   "metadata": {},
   "outputs": [],
   "source": []
  }
 ],
 "metadata": {
  "kernelspec": {
   "display_name": "Python 3 (ipykernel)",
   "language": "python",
   "name": "python3"
  },
  "language_info": {
   "codemirror_mode": {
    "name": "ipython",
    "version": 3
   },
   "file_extension": ".py",
   "mimetype": "text/x-python",
   "name": "python",
   "nbconvert_exporter": "python",
   "pygments_lexer": "ipython3",
   "version": "3.7.11"
  }
 },
 "nbformat": 4,
 "nbformat_minor": 2
}
